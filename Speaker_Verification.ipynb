{
 "cells": [
  {
   "cell_type": "markdown",
   "id": "portable-french",
   "metadata": {},
   "source": [
    "# Speaker Verification"
   ]
  },
  {
   "cell_type": "code",
   "execution_count": null,
   "id": "sapphire-trace",
   "metadata": {},
   "outputs": [],
   "source": [
    "from test import SpeakerVerification\n",
    "import yaml\n",
    "import pandas as pd\n",
    "import os\n",
    "import IPython\n",
    "import tensorflow as tf\n",
    "import numpy as np\n",
    "\n",
    "speaker_file = \"SpeakerEncoder.yaml\"\n",
    "with open(speaker_file) as file:\n",
    "    speaker_config_dict = yaml.load(file, Loader=yaml.FullLoader)\n",
    "\n",
    "speaker_verification = SpeakerVerification(speaker_config_dict)\n",
    "rel_path = speaker_config_dict[\"rel_path\"]\n",
    "enroll_folder = speaker_config_dict[\"enroll_folder\"]\n",
    "verify_folder = speaker_config_dict[\"verify_folder\"]\n",
    "\n",
    "vox1_meta_path = os.path.join(rel_path, \"vox1_meta.csv\")\n",
    "df = pd.read_csv(vox1_meta_path, sep=\"\\t\")\n",
    "df = df[df[\"Set\"]==\"test\"].reset_index(drop=True)"
   ]
  },
  {
   "cell_type": "markdown",
   "id": "handy-jonathan",
   "metadata": {},
   "source": [
    "# 1 - Enrollment\n",
    "## Select speaker, youtube video and utterances\n",
    "### Consider only speakers with n_utterances (or more) in one (or more) youtube video"
   ]
  },
  {
   "cell_type": "code",
   "execution_count": null,
   "id": "anonymous-restaurant",
   "metadata": {},
   "outputs": [],
   "source": [
    "n_utterances = 5\n",
    "sel_speakers = speaker_verification.filter_speakers(n_utterances)\n",
    "if sel_speakers != None:\n",
    "    df_sel = df[df[\"VoxCeleb1 ID\"].isin(sel_speakers)]\n",
    "    print(df_sel)"
   ]
  },
  {
   "cell_type": "markdown",
   "id": "african-conditions",
   "metadata": {},
   "source": [
    "### Let's pick a speaker and check from which of his/her youtube videos we have n_utters or more"
   ]
  },
  {
   "cell_type": "code",
   "execution_count": null,
   "id": "human-wagon",
   "metadata": {},
   "outputs": [],
   "source": [
    "speaker_id = \"id10277\"\n",
    "sel_youtube = speaker_verification.filter_youtube(speaker_id, n_utterances)\n",
    "if sel_youtube != None:\n",
    "    print(*sel_youtube)"
   ]
  },
  {
   "cell_type": "markdown",
   "id": "phantom-westminster",
   "metadata": {},
   "source": [
    "### Now we can pick up a youtube video and get random n_utters"
   ]
  },
  {
   "cell_type": "code",
   "execution_count": null,
   "id": "advised-legislature",
   "metadata": {},
   "outputs": [],
   "source": [
    "youtube_id = \"znxUWA2QAGs\"\n",
    "utter_files = speaker_verification.random_utterances(speaker_id, \n",
    "                                       youtube_id, \n",
    "                                       n_utterances)\n",
    "utter_files"
   ]
  },
  {
   "cell_type": "markdown",
   "id": "excess-struggle",
   "metadata": {},
   "source": [
    "### We can hear the audios"
   ]
  },
  {
   "cell_type": "code",
   "execution_count": null,
   "id": "promising-courtesy",
   "metadata": {},
   "outputs": [],
   "source": [
    "u_paths = [os.path.join(rel_path, enroll_folder, \n",
    "                        speaker_id, youtube_id, u) for u in utter_files]\n",
    "IPython.display.Audio(u_paths[4])"
   ]
  },
  {
   "cell_type": "markdown",
   "id": "productive-lyric",
   "metadata": {},
   "source": [
    "## Now we can proceed to enroll this speaker's audios\n",
    "For each utterance,\n",
    "* feature extraction (mel spectrogram) is performed\n",
    "* a batch is made applying a sliding window over each transformed utterance\n",
    "* the batch feeds the speaker encoder\n",
    "* the embeddings at the output are averaged.\n",
    "\n",
    "With all the mean embeddings of that user enrollment, the centroid is computed."
   ]
  },
  {
   "cell_type": "code",
   "execution_count": null,
   "id": "introductory-stranger",
   "metadata": {},
   "outputs": [],
   "source": [
    "centroid = speaker_verification.enroll(speaker_id=speaker_id,\n",
    "                                           youtube_id=youtube_id,\n",
    "                                           utter_files=utter_files,\n",
    "                                           n_utterances=n_utterances)"
   ]
  },
  {
   "cell_type": "markdown",
   "id": "environmental-there",
   "metadata": {},
   "source": [
    "# 2 - Speaker Verification\n",
    "## 2.1 First, another utterance of the same speaker and youtube video\n",
    "### Select speaker, youtube video and one utterance"
   ]
  },
  {
   "cell_type": "code",
   "execution_count": null,
   "id": "horizontal-decimal",
   "metadata": {},
   "outputs": [],
   "source": [
    "speaker_new = \"id10277\"\n",
    "youtube_new = \"znxUWA2QAGs\"\n",
    "utter_new = \"00005.wav\"\n",
    "utter_path = os.path.join(rel_path, enroll_folder, \n",
    "                        speaker_new, youtube_new, utter_new)\n",
    "IPython.display.Audio(utter_path)"
   ]
  },
  {
   "cell_type": "markdown",
   "id": "consolidated-exercise",
   "metadata": {},
   "source": [
    "### Let's compute the embeddings of the speaker audio\n",
    "The utterance to be verified is processed with the same steps as each of the utterances in the enrollment:\n",
    "* feature extraction (mel spectrogram) is performed\n",
    "* a batch is made applying a sliding window over the transformed utterance\n",
    "* the batch feeds the speaker encoder\n",
    "* the embeddings at the output are averaged."
   ]
  },
  {
   "cell_type": "code",
   "execution_count": null,
   "id": "extreme-contrary",
   "metadata": {},
   "outputs": [],
   "source": [
    "embedding_mean = speaker_verification.get_speaker_embedding(speaker_new, youtube_new, utter_new)"
   ]
  },
  {
   "cell_type": "code",
   "execution_count": null,
   "id": "mature-somerset",
   "metadata": {},
   "outputs": [],
   "source": [
    "similarity = tf.reduce_sum(embedding_mean * centroid)\n",
    "print(similarity.numpy())"
   ]
  },
  {
   "cell_type": "markdown",
   "id": "silent-sociology",
   "metadata": {},
   "source": [
    "## 2.2 Then, same speaker but another youtube video"
   ]
  },
  {
   "cell_type": "code",
   "execution_count": null,
   "id": "dirty-immigration",
   "metadata": {},
   "outputs": [],
   "source": [
    "speaker_new = \"id10277\"\n",
    "youtube_new = \"tbh20gz_KRA\"\n",
    "utter_new = \"00001.wav\"\n",
    "utter_path = os.path.join(rel_path, enroll_folder, \n",
    "                        speaker_new, youtube_new, utter_new)\n",
    "IPython.display.Audio(utter_path)"
   ]
  },
  {
   "cell_type": "code",
   "execution_count": null,
   "id": "divine-florist",
   "metadata": {},
   "outputs": [],
   "source": [
    "embedding_mean = speaker_verification.get_speaker_embedding(speaker_new, youtube_new, utter_new)\n",
    "similarity = tf.reduce_sum(embedding_mean * centroid)\n",
    "print(similarity.numpy())"
   ]
  },
  {
   "cell_type": "markdown",
   "id": "excellent-scotland",
   "metadata": {},
   "source": [
    "## 2.3 Now, another speaker"
   ]
  },
  {
   "cell_type": "code",
   "execution_count": null,
   "id": "revised-market",
   "metadata": {},
   "outputs": [],
   "source": [
    "speaker_new = \"id10305\"\n",
    "sel_youtube = speaker_verification.filter_youtube(speaker_new, n_utterances)\n",
    "if sel_youtube != None:\n",
    "    print(*sel_youtube)"
   ]
  },
  {
   "cell_type": "code",
   "execution_count": null,
   "id": "rough-oliver",
   "metadata": {},
   "outputs": [],
   "source": [
    "youtube_new = \"Piw0wvQbpnQ\"\n",
    "utter_new = \"00001.wav\"\n",
    "utter_path = os.path.join(rel_path, enroll_folder, \n",
    "                        speaker_new, youtube_new, utter_new)\n",
    "IPython.display.Audio(utter_path)"
   ]
  },
  {
   "cell_type": "code",
   "execution_count": null,
   "id": "instant-bacon",
   "metadata": {},
   "outputs": [],
   "source": [
    "embedding_mean = speaker_verification.get_speaker_embedding(speaker_new, youtube_new, utter_new)\n",
    "similarity = tf.reduce_sum(embedding_mean * centroid)\n",
    "print(similarity.numpy())"
   ]
  },
  {
   "cell_type": "markdown",
   "id": "wicked-amplifier",
   "metadata": {},
   "source": [
    "## 2.4 And another one"
   ]
  },
  {
   "cell_type": "code",
   "execution_count": null,
   "id": "fifth-friendship",
   "metadata": {},
   "outputs": [],
   "source": [
    "speaker_new = \"id10272\"\n",
    "sel_youtube = speaker_verification.filter_youtube(speaker_new, n_utterances)\n",
    "if sel_youtube != None:\n",
    "    print(*sel_youtube)"
   ]
  },
  {
   "cell_type": "code",
   "execution_count": null,
   "id": "better-blond",
   "metadata": {},
   "outputs": [],
   "source": [
    "youtube_new = \"ho_r24dlPTQ\"\n",
    "utter_new = \"00001.wav\"\n",
    "utter_path = os.path.join(rel_path, enroll_folder, \n",
    "                        speaker_new, youtube_new, utter_new)\n",
    "IPython.display.Audio(utter_path)"
   ]
  },
  {
   "cell_type": "code",
   "execution_count": null,
   "id": "sexual-treat",
   "metadata": {},
   "outputs": [],
   "source": [
    "embedding_mean = speaker_verification.get_speaker_embedding(speaker_new, youtube_new, utter_new)\n",
    "similarity = tf.reduce_sum(embedding_mean * centroid)\n",
    "print(similarity.numpy())"
   ]
  },
  {
   "cell_type": "markdown",
   "id": "rocky-sunglasses",
   "metadata": {},
   "source": [
    "## 2.5 And yet another one"
   ]
  },
  {
   "cell_type": "code",
   "execution_count": null,
   "id": "general-edward",
   "metadata": {},
   "outputs": [],
   "source": [
    "speaker_new = \"id10306\" # Eva Green\n",
    "sel_youtube = speaker_verification.filter_youtube(speaker_new, n_utterances)\n",
    "if sel_youtube != None:\n",
    "    print(*sel_youtube)"
   ]
  },
  {
   "cell_type": "code",
   "execution_count": null,
   "id": "eight-coating",
   "metadata": {},
   "outputs": [],
   "source": [
    "youtube_new = \"tELtXMqh_xg\" \n",
    "utter_new = \"00001.wav\"\n",
    "utter_path = os.path.join(rel_path, enroll_folder, \n",
    "                        speaker_new, youtube_new, utter_new)\n",
    "IPython.display.Audio(utter_path)"
   ]
  },
  {
   "cell_type": "code",
   "execution_count": null,
   "id": "yellow-detail",
   "metadata": {},
   "outputs": [],
   "source": [
    "embedding_mean = speaker_verification.get_speaker_embedding(speaker_new, youtube_new, utter_new)\n",
    "similarity = tf.reduce_sum(embedding_mean * centroid)\n",
    "print(similarity.numpy())"
   ]
  },
  {
   "cell_type": "markdown",
   "id": "failing-vehicle",
   "metadata": {},
   "source": [
    "## 2.6 And even yet another one"
   ]
  },
  {
   "cell_type": "code",
   "execution_count": null,
   "id": "animal-motion",
   "metadata": {},
   "outputs": [],
   "source": [
    "speaker_new = \"id10286\"\n",
    "sel_youtube = speaker_verification.filter_youtube(speaker_new, n_utterances)\n",
    "if sel_youtube != None:\n",
    "    print(*sel_youtube)"
   ]
  },
  {
   "cell_type": "code",
   "execution_count": null,
   "id": "colored-differential",
   "metadata": {},
   "outputs": [],
   "source": [
    "youtube_new = \"PlJd6NVoigs\" \n",
    "utter_new = \"00001.wav\"\n",
    "utter_path = os.path.join(rel_path, enroll_folder, \n",
    "                        speaker_new, youtube_new, utter_new)\n",
    "IPython.display.Audio(utter_path)"
   ]
  },
  {
   "cell_type": "code",
   "execution_count": null,
   "id": "solved-literature",
   "metadata": {},
   "outputs": [],
   "source": [
    "embedding_mean = speaker_verification.get_speaker_embedding(speaker_new, youtube_new, utter_new)\n",
    "similarity = tf.reduce_sum(embedding_mean * centroid)\n",
    "print(\"The similarity with {youtube} \"{similarity.numpy())"
   ]
  },
  {
   "cell_type": "markdown",
   "id": "ordered-rochester",
   "metadata": {},
   "source": [
    "## 2.7 Now let's fix the new speaker and check similarity with all the speakers (including him/her) and youtube videos (see Colab)"
   ]
  },
  {
   "cell_type": "code",
   "execution_count": null,
   "id": "protecting-clerk",
   "metadata": {
    "scrolled": false
   },
   "outputs": [],
   "source": [
    "sel_speakers = speaker_verification.filter_speakers(n_utterances)\n",
    "sel_speakers.sort()\n",
    "# print(sel_speakers)\n",
    "\n",
    "for speaker_id in sel_speakers:\n",
    "    sel_youtube = speaker_verification.filter_youtube(speaker_id, n_utterances)\n",
    "    for youtube_id in sel_youtube:\n",
    "        utter_files = speaker_verification.random_utterances(speaker_id, \n",
    "                                       youtube_id, \n",
    "                                       n_utterances)\n",
    "        \n",
    "        centroid = speaker_verification.enroll(speaker_id=speaker_id,\n",
    "                                               youtube_id=youtube_id,\n",
    "                                               utter_files=utter_files,\n",
    "                                               n_utterances=n_utterances, print_mode=False)\n"
   ]
  },
  {
   "cell_type": "markdown",
   "id": "remarkable-stone",
   "metadata": {},
   "source": [
    "## 2.8 Now AJR voice finally!!!!!!\n",
    "### First, (supposed) speaker verification data"
   ]
  },
  {
   "cell_type": "code",
   "execution_count": null,
   "id": "transparent-childhood",
   "metadata": {},
   "outputs": [],
   "source": [
    "n_utterances = 4\n",
    "speaker_new = \"id00001\"\n",
    "youtube_new = \"verifyeng01\" # verifyeng01 verifyesp01\n",
    "utter_new = \"00004.wav\" # 00001 00002 00003 (longer) 00004 (even longer)\n",
    "utter_path = os.path.join(rel_path, verify_folder, \n",
    "                        speaker_new, youtube_new, utter_new)\n",
    "IPython.display.Audio(utter_path)"
   ]
  },
  {
   "cell_type": "code",
   "execution_count": null,
   "id": "graduate-robertson",
   "metadata": {},
   "outputs": [],
   "source": [
    "embedding_mean = speaker_verification.get_speaker_embedding(speaker_new, youtube_new, utter_new, mode=\"verify\")"
   ]
  },
  {
   "cell_type": "code",
   "execution_count": null,
   "id": "collected-prerequisite",
   "metadata": {},
   "outputs": [],
   "source": [
    "speaker_id = \"id00001\"\n",
    "sel_youtube = speaker_verification.filter_youtube(speaker_id, n_utterances, mode=\"enroll\")\n",
    "if sel_youtube != None:\n",
    "    print(*sel_youtube)"
   ]
  },
  {
   "cell_type": "code",
   "execution_count": null,
   "id": "comprehensive-alberta",
   "metadata": {},
   "outputs": [],
   "source": [
    "for youtube_id in sel_youtube:\n",
    "    utter_files = speaker_verification.random_utterances(speaker_id, \n",
    "                       youtube_id, \n",
    "                       n_utterances,\n",
    "                        mode=\"enroll\")\n",
    "\n",
    "    centroid = speaker_verification.enroll(speaker_id=speaker_id,\n",
    "                               youtube_id=youtube_id,\n",
    "                               utter_files=utter_files,\n",
    "                               n_utterances=n_utterances,\n",
    "                               print_mode=False)\n",
    "    \n",
    "    similarity = tf.reduce_sum(embedding_mean * centroid)\n",
    "    print(f\"The similarity of {utter_new=} in {youtube_new=} with {youtube_id=} is {similarity.numpy():.3f}\")"
   ]
  },
  {
   "cell_type": "markdown",
   "id": "advance-sociology",
   "metadata": {},
   "source": [
    "# 3 - Embeddings plots: t-SNE, UMAP, PCA?"
   ]
  },
  {
   "cell_type": "code",
   "execution_count": null,
   "id": "suspected-biography",
   "metadata": {},
   "outputs": [],
   "source": [
    "import warnings\n",
    "import sys\n",
    "if not sys.warnoptions:\n",
    "    warnings.simplefilter(\"ignore\")\n",
    "import matplotlib.pyplot as plt\n",
    "import umap\n",
    "import numpy as np\n",
    "\n",
    "\n",
    "colormap = np.array([\n",
    "    [76, 255, 0], # 0 light green\n",
    "    [0, 127, 70], # 1 dark green\n",
    "    [255, 0, 0], # 2 red\n",
    "    [255, 217, 38], # 3 yellow\n",
    "    [0, 135, 255], # 4 blue\n",
    "    [165, 0, 165], # 5 purple\n",
    "    [255, 167, 255], # 6 pink\n",
    "    [0, 255, 255], # 7 light blue\n",
    "    [255, 96, 38], # 8 orange\n",
    "    [142, 76, 0], # 9 brown\n",
    "    [33, 0, 127], # 10 violet\n",
    "    [0, 0, 0], # 11 black\n",
    "    [183, 183, 183], # 12 grey\n",
    "], dtype=np.float) / 255 \n"
   ]
  },
  {
   "cell_type": "markdown",
   "id": "mobile-century",
   "metadata": {},
   "source": [
    "## 3.1 UMAP from unknown vs enroll\n",
    "Install in terminal:\n",
    "* conda install -c conda-forge umap-learn # not found\n",
    "* pip install umap-learn # installed"
   ]
  },
  {
   "cell_type": "code",
   "execution_count": null,
   "id": "banned-vessel",
   "metadata": {},
   "outputs": [],
   "source": [
    "n_utterances = 4\n",
    "speaker_new = \"unknown\" \n",
    "youtube_new = \"verify00001\"\n",
    "utter_new = \"Alberto.ogg\" # no se puede oir en IPython\n",
    "utter_new = \"Sara.ogg\" # \n",
    "utter_path = os.path.join(rel_path, verify_folder, \n",
    "                        speaker_new, youtube_new, utter_new)\n",
    "\n",
    "IPython.display.Audio(utter_path)"
   ]
  },
  {
   "cell_type": "code",
   "execution_count": null,
   "id": "ignored-developer",
   "metadata": {},
   "outputs": [],
   "source": [
    "verif_embedding = speaker_verification.get_speaker_embedding(speaker_new, youtube_new, utter_new, mode=\"verify\")"
   ]
  },
  {
   "cell_type": "code",
   "execution_count": null,
   "id": "royal-polymer",
   "metadata": {},
   "outputs": [],
   "source": [
    "# enroll embeddings\n",
    "speaker_id = \"id00001\"\n",
    "youtube_id = \"enrolleng02\"\n",
    "utter_files = speaker_verification.random_utterances(speaker_id, \n",
    "                       youtube_id, \n",
    "                       n_utterances,\n",
    "                        mode=\"enroll\")\n",
    "\n",
    "centroid, enroll_embeddings = speaker_verification.enroll(speaker_id=speaker_id,\n",
    "                               youtube_id=youtube_id,\n",
    "                               utter_files=utter_files,\n",
    "                               n_utterances=n_utterances,\n",
    "                               print_mode=False, return_embeddings=True)"
   ]
  },
  {
   "cell_type": "code",
   "execution_count": null,
   "id": "downtown-creator",
   "metadata": {},
   "outputs": [],
   "source": [
    "colors = [colormap[0] for i in range(n_utterances)] # enroll embeddings\n",
    "colors.append(colormap[2]) # verification embedding\n",
    "\n",
    "reducer = umap.UMAP()\n",
    "verif_embedding_np = verif_embedding.numpy()\n",
    "verif_embedding_np = np.reshape(verif_embedding_np, (verif_embedding_np.shape[0], 1))\n",
    "concat = np.concatenate((enroll_embeddings, verif_embedding_np.T), axis=0)\n",
    "projected = reducer.fit_transform(concat)\n",
    "projected.shape # (n_utterances, 2)"
   ]
  },
  {
   "cell_type": "code",
   "execution_count": null,
   "id": "disabled-clinic",
   "metadata": {},
   "outputs": [],
   "source": [
    "plt.scatter(projected[:, 0], projected[:, 1], c=colors)"
   ]
  },
  {
   "cell_type": "markdown",
   "id": "loved-devices",
   "metadata": {},
   "source": [
    "## 3.2 UMAP of enrolls"
   ]
  },
  {
   "cell_type": "code",
   "execution_count": null,
   "id": "fourth-density",
   "metadata": {},
   "outputs": [],
   "source": [
    "n_utterances = 4\n",
    "speaker_ids = [\"id0000\" + str(i) for i in range(1, 8)]\n",
    "n_speakers = len(speaker_ids)\n",
    "ground_truth = np.repeat(np.arange(n_speakers), n_utterances)\n",
    "colors = [colormap[i] for i in ground_truth]\n",
    "youtube_id = \"enrolleng01\"\n",
    "concat = []\n",
    "for speaker_id in speaker_ids:\n",
    "    print(f\"{speaker_id=}\")\n",
    "    utter_files = speaker_verification.random_utterances(speaker_id, \n",
    "                       youtube_id, \n",
    "                       n_utterances,\n",
    "                        mode=\"enroll\")\n",
    "\n",
    "    centroid, enroll_embeddings = speaker_verification.enroll(speaker_id=speaker_id,\n",
    "                               youtube_id=youtube_id,\n",
    "                               utter_files=utter_files,\n",
    "                               n_utterances=n_utterances,\n",
    "                               print_mode=False, return_embeddings=True)\n",
    "    concat.append(enroll_embeddings)"
   ]
  },
  {
   "cell_type": "code",
   "execution_count": null,
   "id": "sufficient-responsibility",
   "metadata": {},
   "outputs": [],
   "source": [
    "concat_np = concat[0]\n",
    "for i in range(1, len(concat)):\n",
    "    concat_np = np.concatenate((concat_np, concat[i]))\n",
    "concat_np.shape"
   ]
  },
  {
   "cell_type": "code",
   "execution_count": null,
   "id": "blocked-patient",
   "metadata": {},
   "outputs": [],
   "source": [
    "reducer = umap.UMAP()\n",
    "projected = reducer.fit_transform(concat_np)\n",
    "plt.scatter(projected[:, 0], projected[:, 1], c=colors)"
   ]
  },
  {
   "cell_type": "markdown",
   "id": "proof-basis",
   "metadata": {},
   "source": [
    "0 light green Alberto\n",
    "\n",
    "1 dark green  Sara\n",
    "\n",
    "2 red         Sergio\n",
    "\n",
    "3 yellow      Sascha\n",
    "\n",
    "4 blue        Niklas\n",
    "\n",
    "5 purple      John\n",
    "\n",
    "6 pink        Mena"
   ]
  },
  {
   "cell_type": "markdown",
   "id": "informal-thursday",
   "metadata": {},
   "source": [
    "## 3.3 UMAP of enrolls (changing checkpoint)"
   ]
  },
  {
   "cell_type": "code",
   "execution_count": 20,
   "id": "virtual-discovery",
   "metadata": {},
   "outputs": [],
   "source": [
    "import warnings\n",
    "import sys\n",
    "if not sys.warnoptions:\n",
    "    warnings.simplefilter(\"ignore\")\n",
    "import matplotlib.pyplot as plt\n",
    "import umap\n",
    "import numpy as np\n",
    "\n",
    "colormap = np.array([\n",
    "    [76, 255, 0], # 0 light green\n",
    "    [0, 127, 70], # 1 dark green\n",
    "    [255, 0, 0], # 2 red\n",
    "    [255, 217, 38], # 3 yellow\n",
    "    [0, 135, 255], # 4 blue\n",
    "    [165, 0, 165], # 5 purple\n",
    "    [255, 167, 255], # 6 pink\n",
    "    [0, 255, 255], # 7 light blue\n",
    "    [255, 96, 38], # 8 orange\n",
    "    [142, 76, 0], # 9 brown\n",
    "    [33, 0, 127], # 10 violet\n",
    "    [0, 0, 0], # 11 black\n",
    "    [183, 183, 183], # 12 grey\n",
    "], dtype=np.float) / 255 \n",
    "\n",
    "from test import SpeakerVerification\n",
    "import yaml\n",
    "import pandas as pd\n",
    "import os\n",
    "import IPython\n",
    "import tensorflow as tf\n",
    "\n",
    "speaker_file = \"SpeakerEncoder.yaml\"\n",
    "with open(speaker_file) as file:\n",
    "    speaker_config_dict = yaml.load(file, Loader=yaml.FullLoader)\n",
    "\n",
    "speaker_config_dict[\"checkpoint_path\"] = \"../checkpoints_bk/checkpoint_D26_21_13_50000\" # \"checkpoint\"\n",
    "speaker_config_dict[\"checkpoint_path\"] = \"../checkpoints_bk/checkpoint_D26_19_48_40K\" # \"checkpoint\"\n",
    "speaker_config_dict[\"checkpoint_path\"] = \"../checkpoints_bk/checkpoint_D26_19_09_15K\" # \"checkpoint\"\n",
    "speaker_config_dict[\"checkpoint_path\"] = \"../checkpoints_bk/checkpoint_D26_16_24_80K\" # \"checkpoint\"\n",
    "\n",
    "speaker_verification = SpeakerVerification(speaker_config_dict)"
   ]
  },
  {
   "cell_type": "code",
   "execution_count": 21,
   "id": "assured-celebrity",
   "metadata": {},
   "outputs": [
    {
     "name": "stdout",
     "output_type": "stream",
     "text": [
      "speaker_id='id00001'\n",
      "Enrolling speaker_id: id00001, with youtube_id: enrolleng01 and utters: ['00003.ogg', '00002.ogg', '00001.ogg', '00004.ogg']\n",
      "Original sampling rate of utterance is 48000. Resampling to 16000\n",
      "Original sampling rate of utterance is 48000. Resampling to 16000\n",
      "Original sampling rate of utterance is 48000. Resampling to 16000\n",
      "Original sampling rate of utterance is 48000. Resampling to 16000\n",
      "speaker_id='id00002'\n",
      "Enrolling speaker_id: id00002, with youtube_id: enrolleng01 and utters: ['00005.ogg', '00003.ogg', '00001.ogg', '00002.ogg']\n",
      "Original sampling rate of utterance is 48000. Resampling to 16000\n",
      "Original sampling rate of utterance is 48000. Resampling to 16000\n",
      "Original sampling rate of utterance is 48000. Resampling to 16000\n",
      "Original sampling rate of utterance is 48000. Resampling to 16000\n",
      "speaker_id='id00003'\n",
      "Enrolling speaker_id: id00003, with youtube_id: enrolleng01 and utters: ['00004.ogg', '00003.ogg', '00006.ogg', '00005.ogg']\n",
      "Original sampling rate of utterance is 48000. Resampling to 16000\n",
      "Original sampling rate of utterance is 48000. Resampling to 16000\n",
      "Original sampling rate of utterance is 48000. Resampling to 16000\n",
      "Original sampling rate of utterance is 48000. Resampling to 16000\n",
      "speaker_id='id00004'\n",
      "Enrolling speaker_id: id00004, with youtube_id: enrolleng01 and utters: ['00003.ogg', '00004.ogg', '00001.ogg', '00002.ogg']\n",
      "Original sampling rate of utterance is 48000. Resampling to 16000\n",
      "Original sampling rate of utterance is 48000. Resampling to 16000\n",
      "Original sampling rate of utterance is 48000. Resampling to 16000\n",
      "Original sampling rate of utterance is 48000. Resampling to 16000\n",
      "speaker_id='id00005'\n",
      "Enrolling speaker_id: id00005, with youtube_id: enrolleng01 and utters: ['00004.wav', '00003.wav', '00005.wav', '00002.wav']\n",
      "Original sampling rate of utterance is 44100. Resampling to 16000\n",
      "Original sampling rate of utterance is 44100. Resampling to 16000\n",
      "Original sampling rate of utterance is 44100. Resampling to 16000\n",
      "Original sampling rate of utterance is 44100. Resampling to 16000\n",
      "speaker_id='id00006'\n",
      "Enrolling speaker_id: id00006, with youtube_id: enrolleng01 and utters: ['00001.ogg', '00004.ogg', '00005.ogg', '00002.ogg']\n",
      "Original sampling rate of utterance is 48000. Resampling to 16000\n",
      "Original sampling rate of utterance is 48000. Resampling to 16000\n",
      "Original sampling rate of utterance is 48000. Resampling to 16000\n",
      "Original sampling rate of utterance is 48000. Resampling to 16000\n",
      "speaker_id='id00007'\n",
      "Enrolling speaker_id: id00007, with youtube_id: enrolleng01 and utters: ['00004.ogg', '00002.ogg', '00005.ogg', '00001.ogg']\n",
      "Original sampling rate of utterance is 48000. Resampling to 16000\n",
      "Original sampling rate of utterance is 48000. Resampling to 16000\n",
      "Original sampling rate of utterance is 48000. Resampling to 16000\n",
      "Original sampling rate of utterance is 48000. Resampling to 16000\n"
     ]
    },
    {
     "data": {
      "text/plain": [
       "<matplotlib.collections.PathCollection at 0x2a0a98d30>"
      ]
     },
     "execution_count": 21,
     "metadata": {},
     "output_type": "execute_result"
    },
    {
     "data": {
      "image/png": "[encoded data removed]",
      "text/plain": [
       "<Figure size 432x288 with 1 Axes>"
      ]
     },
     "metadata": {
      "needs_background": "light"
     },
     "output_type": "display_data"
    }
   ],
   "source": [
    "n_utterances = 4\n",
    "speaker_ids = [\"id0000\" + str(i) for i in range(1, 8)]\n",
    "n_speakers = len(speaker_ids)\n",
    "ground_truth = np.repeat(np.arange(n_speakers), n_utterances)\n",
    "colors = [colormap[i] for i in ground_truth]\n",
    "youtube_id = \"enrolleng01\"\n",
    "concat = []\n",
    "for speaker_id in speaker_ids:\n",
    "    print(f\"{speaker_id=}\")\n",
    "    utter_files = speaker_verification.random_utterances(speaker_id, \n",
    "                       youtube_id, \n",
    "                       n_utterances,\n",
    "                        mode=\"enroll\")\n",
    "\n",
    "    centroid, enroll_embeddings = speaker_verification.enroll(speaker_id=speaker_id,\n",
    "                               youtube_id=youtube_id,\n",
    "                               utter_files=utter_files,\n",
    "                               n_utterances=n_utterances,\n",
    "                               print_mode=False, return_embeddings=True)\n",
    "    concat.append(enroll_embeddings)\n",
    "\n",
    "concat_np = concat[0]\n",
    "for i in range(1, len(concat)):\n",
    "    concat_np = np.concatenate((concat_np, concat[i]))\n",
    "\n",
    "reducer = umap.UMAP()\n",
    "projected = reducer.fit_transform(concat_np)\n",
    "plt.scatter(projected[:, 0], projected[:, 1], c=colors)"
   ]
  },
  {
   "cell_type": "code",
   "execution_count": null,
   "id": "immune-ranking",
   "metadata": {},
   "outputs": [],
   "source": []
  },
  {
   "cell_type": "code",
   "execution_count": null,
   "id": "documentary-press",
   "metadata": {},
   "outputs": [],
   "source": []
  },
  {
   "cell_type": "code",
   "execution_count": null,
   "id": "ongoing-domain",
   "metadata": {},
   "outputs": [],
   "source": []
  }
 ],
 "metadata": {
  "kernelspec": {
   "display_name": "Python 3",
   "language": "python",
   "name": "python3"
  },
  "language_info": {
   "codemirror_mode": {
    "name": "ipython",
    "version": 3
   },
   "file_extension": ".py",
   "mimetype": "text/x-python",
   "name": "python",
   "nbconvert_exporter": "python",
   "pygments_lexer": "ipython3",
   "version": "3.8.6"
  }
 },
 "nbformat": 4,
 "nbformat_minor": 5
}
